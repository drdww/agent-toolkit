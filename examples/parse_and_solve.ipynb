{
 "cells": [
  {
   "cell_type": "code",
   "execution_count": null,
   "id": "25115d61",
   "metadata": {},
   "outputs": [],
   "source": [
    "from lp_parser import parse_word_problem\n",
    "from agent_toolkit import brute_force_lp\n",
    "\n",
    "prompt = \"\"\"Veerman Furniture Company makes three kinds of office furniture ...\"\"\"\n",
    "lp = parse_word_problem(prompt)\n",
    "best, con_df = brute_force_lp(lp)\n",
    "print(best)\n",
    "con_df"
   ]
  }
 ],
 "metadata": {
  "language_info": {
   "name": "python"
  }
 },
 "nbformat": 4,
 "nbformat_minor": 5
}
